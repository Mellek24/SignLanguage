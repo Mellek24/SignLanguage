{
 "cells": [
  {
   "attachments": {},
   "cell_type": "markdown",
   "metadata": {},
   "source": [
    "<center><h1>Sign Language challenge </h1></center>\n",
    "\n",
    "<center><h3>A data challenge on predicting the word from a performed video of the corresponding sign</h3></center>\n",
    "<br/>\n",
    "<center><i>Yanis Moudere, Matthieu Le Cossec, Abdellahi Elemine Vall, Samy Mdihi Thomas Flourent, Timothe Guillaume-Li</i></center>"
   ]
  },
  {
   "attachments": {},
   "cell_type": "markdown",
   "metadata": {},
   "source": [
    "# 1. Introduction"
   ]
  },
  {
   "attachments": {},
   "cell_type": "markdown",
   "metadata": {},
   "source": [
    "The WLASL is a dataset of videos of people performing American Sign Language (ASL) gestures for individual words. It's a valuable resource for researchers and developers working on sign language recognition and translation. With more than 2,000 unique signs and over 20,000 video clips, it provides a large and diverse set of training and testing data. The videos are captured in a variety of settings, including indoor and outdoor environments, with a range of lighting conditions, camera angles, and signers of different ages and genders."
   ]
  },
  {
   "attachments": {},
   "cell_type": "markdown",
   "metadata": {},
   "source": [
    "# 2. setup"
   ]
  },
  {
   "attachments": {},
   "cell_type": "markdown",
   "metadata": {},
   "source": [
    "Install required packages"
   ]
  },
  {
   "cell_type": "code",
   "execution_count": 19,
   "metadata": {},
   "outputs": [
    {
     "name": "stdout",
     "output_type": "stream",
     "text": [
      "Collecting ramp-workflow\n",
      "  Using cached ramp_workflow-0.5.0-py3-none-any.whl (130 kB)\n",
      "Collecting osfclient\n",
      "  Using cached osfclient-0.0.5-py2.py3-none-any.whl (39 kB)\n",
      "Requirement already satisfied: numpy in /Users/mellek/opt/anaconda3/envs/Modelisation/lib/python3.9/site-packages (from -r requirements.txt (line 6)) (1.23.5)\n",
      "Requirement already satisfied: scipy in /Users/mellek/opt/anaconda3/envs/Modelisation/lib/python3.9/site-packages (from -r requirements.txt (line 7)) (1.10.0)\n",
      "Requirement already satisfied: pandas in /Users/mellek/opt/anaconda3/envs/Modelisation/lib/python3.9/site-packages (from -r requirements.txt (line 8)) (1.5.3)\n",
      "Requirement already satisfied: matplotlib in /Users/mellek/opt/anaconda3/envs/Modelisation/lib/python3.9/site-packages (from -r requirements.txt (line 9)) (3.5.1)\n",
      "Collecting seaborn\n",
      "  Using cached seaborn-0.12.2-py3-none-any.whl (293 kB)\n",
      "Collecting jupyter\n",
      "  Using cached jupyter-1.0.0-py2.py3-none-any.whl (2.7 kB)\n",
      "Requirement already satisfied: scikit-learn in /Users/mellek/opt/anaconda3/envs/Modelisation/lib/python3.9/site-packages (from -r requirements.txt (line 13)) (1.0.2)\n",
      "Collecting tensorflow-gpu\n",
      "  Downloading tensorflow-gpu-2.12.0.tar.gz (2.6 kB)\n",
      "Collecting flake8\n",
      "  Downloading flake8-6.0.0-py2.py3-none-any.whl (57 kB)\n",
      "\u001b[K     |████████████████████████████████| 57 kB 1.6 MB/s eta 0:00:01\n",
      "\u001b[?25hCollecting black\n",
      "  Downloading black-23.1.0-cp39-cp39-macosx_10_16_x86_64.whl (1.5 MB)\n",
      "\u001b[K     |████████████████████████████████| 1.5 MB 4.0 MB/s eta 0:00:01\n",
      "\u001b[?25hRequirement already satisfied: cloudpickle in /Users/mellek/opt/anaconda3/envs/Modelisation/lib/python3.9/site-packages (from -r requirements.txt (line 21)) (2.2.1)\n",
      "Collecting pyyaml\n",
      "  Using cached PyYAML-6.0-cp39-cp39-macosx_10_9_x86_64.whl (197 kB)\n",
      "Collecting click\n",
      "  Using cached click-8.1.3-py3-none-any.whl (96 kB)\n",
      "Requirement already satisfied: joblib in /Users/mellek/opt/anaconda3/envs/Modelisation/lib/python3.9/site-packages (from ramp-workflow->-r requirements.txt (line 2)) (1.1.0)\n",
      "Requirement already satisfied: tqdm in /Users/mellek/opt/anaconda3/envs/Modelisation/lib/python3.9/site-packages (from osfclient->-r requirements.txt (line 3)) (4.64.1)\n",
      "Requirement already satisfied: requests in /Users/mellek/opt/anaconda3/envs/Modelisation/lib/python3.9/site-packages (from osfclient->-r requirements.txt (line 3)) (2.27.1)\n",
      "Requirement already satisfied: six in /Users/mellek/opt/anaconda3/envs/Modelisation/lib/python3.9/site-packages (from osfclient->-r requirements.txt (line 3)) (1.16.0)\n",
      "Requirement already satisfied: pytz>=2020.1 in /Users/mellek/opt/anaconda3/envs/Modelisation/lib/python3.9/site-packages (from pandas->-r requirements.txt (line 8)) (2021.3)\n",
      "Requirement already satisfied: python-dateutil>=2.8.1 in /Users/mellek/opt/anaconda3/envs/Modelisation/lib/python3.9/site-packages (from pandas->-r requirements.txt (line 8)) (2.8.2)\n",
      "Requirement already satisfied: pillow>=6.2.0 in /Users/mellek/opt/anaconda3/envs/Modelisation/lib/python3.9/site-packages (from matplotlib->-r requirements.txt (line 9)) (9.1.0)\n",
      "Requirement already satisfied: fonttools>=4.22.0 in /Users/mellek/opt/anaconda3/envs/Modelisation/lib/python3.9/site-packages (from matplotlib->-r requirements.txt (line 9)) (4.32.0)\n",
      "Requirement already satisfied: cycler>=0.10 in /Users/mellek/opt/anaconda3/envs/Modelisation/lib/python3.9/site-packages (from matplotlib->-r requirements.txt (line 9)) (0.11.0)\n",
      "Requirement already satisfied: pyparsing>=2.2.1 in /Users/mellek/opt/anaconda3/envs/Modelisation/lib/python3.9/site-packages (from matplotlib->-r requirements.txt (line 9)) (3.0.4)\n",
      "Requirement already satisfied: packaging>=20.0 in /Users/mellek/opt/anaconda3/envs/Modelisation/lib/python3.9/site-packages (from matplotlib->-r requirements.txt (line 9)) (21.3)\n",
      "Requirement already satisfied: kiwisolver>=1.0.1 in /Users/mellek/opt/anaconda3/envs/Modelisation/lib/python3.9/site-packages (from matplotlib->-r requirements.txt (line 9)) (1.4.2)\n",
      "Collecting ipywidgets\n",
      "  Using cached ipywidgets-8.0.4-py3-none-any.whl (137 kB)\n",
      "Requirement already satisfied: ipykernel in /Users/mellek/opt/anaconda3/envs/Modelisation/lib/python3.9/site-packages (from jupyter->-r requirements.txt (line 11)) (6.9.1)\n",
      "Requirement already satisfied: notebook in /Users/mellek/opt/anaconda3/envs/Modelisation/lib/python3.9/site-packages (from jupyter->-r requirements.txt (line 11)) (6.4.8)\n",
      "Collecting qtconsole\n",
      "  Downloading qtconsole-5.4.0-py3-none-any.whl (121 kB)\n",
      "\u001b[K     |████████████████████████████████| 121 kB 1.6 MB/s eta 0:00:01\n",
      "\u001b[?25hCollecting jupyter-console\n",
      "  Downloading jupyter_console-6.6.1-py3-none-any.whl (24 kB)\n",
      "Requirement already satisfied: nbconvert in /Users/mellek/opt/anaconda3/envs/Modelisation/lib/python3.9/site-packages (from jupyter->-r requirements.txt (line 11)) (6.3.0)\n",
      "Requirement already satisfied: threadpoolctl>=2.0.0 in /Users/mellek/opt/anaconda3/envs/Modelisation/lib/python3.9/site-packages (from scikit-learn->-r requirements.txt (line 13)) (3.1.0)\n",
      "Collecting python_version>\"3.7\"\n",
      "  Downloading python_version-0.0.2-py2.py3-none-any.whl (3.4 kB)\n",
      "Collecting pycodestyle<2.11.0,>=2.10.0\n",
      "  Downloading pycodestyle-2.10.0-py2.py3-none-any.whl (41 kB)\n",
      "\u001b[K     |████████████████████████████████| 41 kB 813 kB/s eta 0:00:01\n",
      "\u001b[?25hCollecting pyflakes<3.1.0,>=3.0.0\n",
      "  Downloading pyflakes-3.0.1-py2.py3-none-any.whl (62 kB)\n",
      "\u001b[K     |████████████████████████████████| 62 kB 3.6 MB/s eta 0:00:01\n",
      "\u001b[?25hCollecting mccabe<0.8.0,>=0.7.0\n",
      "  Downloading mccabe-0.7.0-py2.py3-none-any.whl (7.3 kB)\n",
      "Collecting platformdirs>=2\n",
      "  Using cached platformdirs-3.0.0-py3-none-any.whl (14 kB)\n",
      "Collecting packaging>=20.0\n",
      "  Using cached packaging-23.0-py3-none-any.whl (42 kB)\n",
      "Collecting pathspec>=0.9.0\n",
      "  Downloading pathspec-0.11.0-py3-none-any.whl (29 kB)\n",
      "Collecting tomli>=1.1.0\n",
      "  Using cached tomli-2.0.1-py3-none-any.whl (12 kB)\n",
      "Collecting mypy-extensions>=0.4.3\n",
      "  Downloading mypy_extensions-1.0.0-py3-none-any.whl (4.7 kB)\n",
      "Requirement already satisfied: typing-extensions>=3.10.0.0 in /Users/mellek/opt/anaconda3/envs/Modelisation/lib/python3.9/site-packages (from black->-r requirements.txt (line 18)) (4.1.1)\n",
      "Requirement already satisfied: appnope in /Users/mellek/opt/anaconda3/envs/Modelisation/lib/python3.9/site-packages (from ipykernel->jupyter->-r requirements.txt (line 11)) (0.1.2)\n",
      "Requirement already satisfied: jupyter-client<8.0 in /Users/mellek/opt/anaconda3/envs/Modelisation/lib/python3.9/site-packages (from ipykernel->jupyter->-r requirements.txt (line 11)) (7.1.2)\n",
      "Requirement already satisfied: matplotlib-inline<0.2.0,>=0.1.0 in /Users/mellek/opt/anaconda3/envs/Modelisation/lib/python3.9/site-packages (from ipykernel->jupyter->-r requirements.txt (line 11)) (0.1.2)\n",
      "Requirement already satisfied: traitlets<6.0,>=5.1.0 in /Users/mellek/opt/anaconda3/envs/Modelisation/lib/python3.9/site-packages (from ipykernel->jupyter->-r requirements.txt (line 11)) (5.1.1)\n",
      "Requirement already satisfied: nest-asyncio in /Users/mellek/opt/anaconda3/envs/Modelisation/lib/python3.9/site-packages (from ipykernel->jupyter->-r requirements.txt (line 11)) (1.5.1)\n",
      "Requirement already satisfied: tornado<7.0,>=4.2 in /Users/mellek/opt/anaconda3/envs/Modelisation/lib/python3.9/site-packages (from ipykernel->jupyter->-r requirements.txt (line 11)) (6.1)\n",
      "Requirement already satisfied: ipython>=7.23.1 in /Users/mellek/opt/anaconda3/envs/Modelisation/lib/python3.9/site-packages (from ipykernel->jupyter->-r requirements.txt (line 11)) (8.2.0)\n",
      "Requirement already satisfied: debugpy<2.0,>=1.0.0 in /Users/mellek/opt/anaconda3/envs/Modelisation/lib/python3.9/site-packages (from ipykernel->jupyter->-r requirements.txt (line 11)) (1.5.1)\n",
      "Requirement already satisfied: pexpect>4.3 in /Users/mellek/opt/anaconda3/envs/Modelisation/lib/python3.9/site-packages (from ipython>=7.23.1->ipykernel->jupyter->-r requirements.txt (line 11)) (4.8.0)\n",
      "Requirement already satisfied: stack-data in /Users/mellek/opt/anaconda3/envs/Modelisation/lib/python3.9/site-packages (from ipython>=7.23.1->ipykernel->jupyter->-r requirements.txt (line 11)) (0.2.0)\n",
      "Requirement already satisfied: prompt-toolkit!=3.0.0,!=3.0.1,<3.1.0,>=2.0.0 in /Users/mellek/opt/anaconda3/envs/Modelisation/lib/python3.9/site-packages (from ipython>=7.23.1->ipykernel->jupyter->-r requirements.txt (line 11)) (3.0.20)\n",
      "Requirement already satisfied: backcall in /Users/mellek/opt/anaconda3/envs/Modelisation/lib/python3.9/site-packages (from ipython>=7.23.1->ipykernel->jupyter->-r requirements.txt (line 11)) (0.2.0)\n",
      "Requirement already satisfied: decorator in /Users/mellek/opt/anaconda3/envs/Modelisation/lib/python3.9/site-packages (from ipython>=7.23.1->ipykernel->jupyter->-r requirements.txt (line 11)) (5.1.1)\n",
      "Requirement already satisfied: pickleshare in /Users/mellek/opt/anaconda3/envs/Modelisation/lib/python3.9/site-packages (from ipython>=7.23.1->ipykernel->jupyter->-r requirements.txt (line 11)) (0.7.5)\n",
      "Requirement already satisfied: setuptools>=18.5 in /Users/mellek/opt/anaconda3/envs/Modelisation/lib/python3.9/site-packages (from ipython>=7.23.1->ipykernel->jupyter->-r requirements.txt (line 11)) (58.0.4)\n",
      "Requirement already satisfied: pygments>=2.4.0 in /Users/mellek/opt/anaconda3/envs/Modelisation/lib/python3.9/site-packages (from ipython>=7.23.1->ipykernel->jupyter->-r requirements.txt (line 11)) (2.14.0)\n",
      "Requirement already satisfied: jedi>=0.16 in /Users/mellek/opt/anaconda3/envs/Modelisation/lib/python3.9/site-packages (from ipython>=7.23.1->ipykernel->jupyter->-r requirements.txt (line 11)) (0.18.1)\n",
      "Requirement already satisfied: parso<0.9.0,>=0.8.0 in /Users/mellek/opt/anaconda3/envs/Modelisation/lib/python3.9/site-packages (from jedi>=0.16->ipython>=7.23.1->ipykernel->jupyter->-r requirements.txt (line 11)) (0.8.3)\n",
      "Requirement already satisfied: jupyter-core>=4.6.0 in /Users/mellek/opt/anaconda3/envs/Modelisation/lib/python3.9/site-packages (from jupyter-client<8.0->ipykernel->jupyter->-r requirements.txt (line 11)) (4.9.2)\n",
      "Requirement already satisfied: pyzmq>=13 in /Users/mellek/opt/anaconda3/envs/Modelisation/lib/python3.9/site-packages (from jupyter-client<8.0->ipykernel->jupyter->-r requirements.txt (line 11)) (22.3.0)\n",
      "Requirement already satisfied: entrypoints in /Users/mellek/opt/anaconda3/envs/Modelisation/lib/python3.9/site-packages (from jupyter-client<8.0->ipykernel->jupyter->-r requirements.txt (line 11)) (0.3)\n",
      "Requirement already satisfied: ptyprocess>=0.5 in /Users/mellek/opt/anaconda3/envs/Modelisation/lib/python3.9/site-packages (from pexpect>4.3->ipython>=7.23.1->ipykernel->jupyter->-r requirements.txt (line 11)) (0.7.0)\n",
      "Requirement already satisfied: wcwidth in /Users/mellek/opt/anaconda3/envs/Modelisation/lib/python3.9/site-packages (from prompt-toolkit!=3.0.0,!=3.0.1,<3.1.0,>=2.0.0->ipython>=7.23.1->ipykernel->jupyter->-r requirements.txt (line 11)) (0.2.5)\n",
      "Collecting widgetsnbextension~=4.0\n",
      "  Using cached widgetsnbextension-4.0.5-py3-none-any.whl (2.0 MB)\n",
      "Collecting jupyterlab-widgets~=3.0\n",
      "  Using cached jupyterlab_widgets-3.0.5-py3-none-any.whl (384 kB)\n",
      "Collecting prompt-toolkit!=3.0.0,!=3.0.1,<3.1.0,>=2.0.0\n",
      "  Downloading prompt_toolkit-3.0.37-py3-none-any.whl (385 kB)\n",
      "\u001b[K     |████████████████████████████████| 385 kB 6.2 MB/s eta 0:00:01\n",
      "\u001b[?25hCollecting ipykernel\n",
      "  Using cached ipykernel-6.21.2-py3-none-any.whl (149 kB)\n",
      "Collecting jupyter-core>=4.6.0\n",
      "  Using cached jupyter_core-5.2.0-py3-none-any.whl (94 kB)\n",
      "Collecting traitlets<6.0,>=5.1.0\n",
      "  Using cached traitlets-5.9.0-py3-none-any.whl (117 kB)\n",
      "Collecting comm>=0.1.1\n",
      "  Using cached comm-0.1.2-py3-none-any.whl (6.5 kB)\n",
      "Collecting psutil\n",
      "  Using cached psutil-5.9.4-cp36-abi3-macosx_10_9_x86_64.whl (243 kB)\n",
      "Collecting debugpy<2.0,>=1.0.0\n",
      "  Using cached debugpy-1.6.6-py2.py3-none-any.whl (4.9 MB)\n",
      "Requirement already satisfied: jupyterlab-pygments in /Users/mellek/opt/anaconda3/envs/Modelisation/lib/python3.9/site-packages (from nbconvert->jupyter->-r requirements.txt (line 11)) (0.1.2)\n",
      "Requirement already satisfied: jinja2>=2.4 in /Users/mellek/opt/anaconda3/envs/Modelisation/lib/python3.9/site-packages (from nbconvert->jupyter->-r requirements.txt (line 11)) (3.0.3)\n",
      "Requirement already satisfied: testpath in /Users/mellek/opt/anaconda3/envs/Modelisation/lib/python3.9/site-packages (from nbconvert->jupyter->-r requirements.txt (line 11)) (0.5.0)\n",
      "Requirement already satisfied: pandocfilters>=1.4.1 in /Users/mellek/opt/anaconda3/envs/Modelisation/lib/python3.9/site-packages (from nbconvert->jupyter->-r requirements.txt (line 11)) (1.5.0)\n",
      "Requirement already satisfied: bleach in /Users/mellek/opt/anaconda3/envs/Modelisation/lib/python3.9/site-packages (from nbconvert->jupyter->-r requirements.txt (line 11)) (4.1.0)\n",
      "Requirement already satisfied: mistune<2,>=0.8.1 in /Users/mellek/opt/anaconda3/envs/Modelisation/lib/python3.9/site-packages (from nbconvert->jupyter->-r requirements.txt (line 11)) (0.8.4)\n",
      "Requirement already satisfied: nbformat>=4.4 in /Users/mellek/opt/anaconda3/envs/Modelisation/lib/python3.9/site-packages (from nbconvert->jupyter->-r requirements.txt (line 11)) (5.1.3)\n",
      "Requirement already satisfied: nbclient<0.6.0,>=0.5.0 in /Users/mellek/opt/anaconda3/envs/Modelisation/lib/python3.9/site-packages (from nbconvert->jupyter->-r requirements.txt (line 11)) (0.5.11)\n",
      "Requirement already satisfied: defusedxml in /Users/mellek/opt/anaconda3/envs/Modelisation/lib/python3.9/site-packages (from nbconvert->jupyter->-r requirements.txt (line 11)) (0.7.1)\n",
      "Requirement already satisfied: MarkupSafe>=2.0 in /Users/mellek/opt/anaconda3/envs/Modelisation/lib/python3.9/site-packages (from jinja2>=2.4->nbconvert->jupyter->-r requirements.txt (line 11)) (2.0.1)\n",
      "Requirement already satisfied: ipython-genutils in /Users/mellek/opt/anaconda3/envs/Modelisation/lib/python3.9/site-packages (from nbformat>=4.4->nbconvert->jupyter->-r requirements.txt (line 11)) (0.2.0)\n",
      "Requirement already satisfied: jsonschema!=2.5.0,>=2.4 in /Users/mellek/opt/anaconda3/envs/Modelisation/lib/python3.9/site-packages (from nbformat>=4.4->nbconvert->jupyter->-r requirements.txt (line 11)) (3.2.0)\n",
      "Requirement already satisfied: attrs>=17.4.0 in /Users/mellek/opt/anaconda3/envs/Modelisation/lib/python3.9/site-packages (from jsonschema!=2.5.0,>=2.4->nbformat>=4.4->nbconvert->jupyter->-r requirements.txt (line 11)) (21.4.0)\n",
      "Requirement already satisfied: pyrsistent>=0.14.0 in /Users/mellek/opt/anaconda3/envs/Modelisation/lib/python3.9/site-packages (from jsonschema!=2.5.0,>=2.4->nbformat>=4.4->nbconvert->jupyter->-r requirements.txt (line 11)) (0.18.0)\n",
      "Requirement already satisfied: webencodings in /Users/mellek/opt/anaconda3/envs/Modelisation/lib/python3.9/site-packages (from bleach->nbconvert->jupyter->-r requirements.txt (line 11)) (0.5.1)\n",
      "Requirement already satisfied: prometheus-client in /Users/mellek/opt/anaconda3/envs/Modelisation/lib/python3.9/site-packages (from notebook->jupyter->-r requirements.txt (line 11)) (0.13.1)\n",
      "Requirement already satisfied: terminado>=0.8.3 in /Users/mellek/opt/anaconda3/envs/Modelisation/lib/python3.9/site-packages (from notebook->jupyter->-r requirements.txt (line 11)) (0.13.1)\n",
      "Requirement already satisfied: Send2Trash>=1.8.0 in /Users/mellek/opt/anaconda3/envs/Modelisation/lib/python3.9/site-packages (from notebook->jupyter->-r requirements.txt (line 11)) (1.8.0)\n",
      "Requirement already satisfied: argon2-cffi in /Users/mellek/opt/anaconda3/envs/Modelisation/lib/python3.9/site-packages (from notebook->jupyter->-r requirements.txt (line 11)) (21.3.0)\n",
      "Requirement already satisfied: argon2-cffi-bindings in /Users/mellek/opt/anaconda3/envs/Modelisation/lib/python3.9/site-packages (from argon2-cffi->notebook->jupyter->-r requirements.txt (line 11)) (21.2.0)\n",
      "Requirement already satisfied: cffi>=1.0.1 in /Users/mellek/opt/anaconda3/envs/Modelisation/lib/python3.9/site-packages (from argon2-cffi-bindings->argon2-cffi->notebook->jupyter->-r requirements.txt (line 11)) (1.15.0)\n",
      "Requirement already satisfied: pycparser in /Users/mellek/opt/anaconda3/envs/Modelisation/lib/python3.9/site-packages (from cffi>=1.0.1->argon2-cffi-bindings->argon2-cffi->notebook->jupyter->-r requirements.txt (line 11)) (2.21)\n",
      "Collecting qtpy>=2.0.1\n",
      "  Downloading QtPy-2.3.0-py3-none-any.whl (83 kB)\n",
      "\u001b[K     |████████████████████████████████| 83 kB 2.8 MB/s eta 0:00:01\n",
      "\u001b[?25hRequirement already satisfied: idna<4,>=2.5 in /Users/mellek/opt/anaconda3/envs/Modelisation/lib/python3.9/site-packages (from requests->osfclient->-r requirements.txt (line 3)) (3.3)\n",
      "Requirement already satisfied: certifi>=2017.4.17 in /Users/mellek/opt/anaconda3/envs/Modelisation/lib/python3.9/site-packages (from requests->osfclient->-r requirements.txt (line 3)) (2021.10.8)\n",
      "Requirement already satisfied: urllib3<1.27,>=1.21.1 in /Users/mellek/opt/anaconda3/envs/Modelisation/lib/python3.9/site-packages (from requests->osfclient->-r requirements.txt (line 3)) (1.26.8)\n",
      "Requirement already satisfied: charset-normalizer~=2.0.0 in /Users/mellek/opt/anaconda3/envs/Modelisation/lib/python3.9/site-packages (from requests->osfclient->-r requirements.txt (line 3)) (2.0.4)\n",
      "Requirement already satisfied: executing in /Users/mellek/opt/anaconda3/envs/Modelisation/lib/python3.9/site-packages (from stack-data->ipython>=7.23.1->ipykernel->jupyter->-r requirements.txt (line 11)) (0.8.3)\n",
      "Requirement already satisfied: asttokens in /Users/mellek/opt/anaconda3/envs/Modelisation/lib/python3.9/site-packages (from stack-data->ipython>=7.23.1->ipykernel->jupyter->-r requirements.txt (line 11)) (2.0.5)\n",
      "Requirement already satisfied: pure-eval in /Users/mellek/opt/anaconda3/envs/Modelisation/lib/python3.9/site-packages (from stack-data->ipython>=7.23.1->ipykernel->jupyter->-r requirements.txt (line 11)) (0.2.2)\n",
      "Building wheels for collected packages: tensorflow-gpu\n",
      "  Building wheel for tensorflow-gpu (setup.py) ... \u001b[?25lerror\n",
      "\u001b[31m  ERROR: Command errored out with exit status 1:\n",
      "   command: /Users/mellek/opt/anaconda3/envs/Modelisation/bin/python -u -c 'import io, os, sys, setuptools, tokenize; sys.argv[0] = '\"'\"'/private/var/folders/39/4b0jz_h56tld0spcl4kwk34c0000gn/T/pip-install-s782w0xs/tensorflow-gpu_c48b3c1355454b6583c588e0fc2ba750/setup.py'\"'\"'; __file__='\"'\"'/private/var/folders/39/4b0jz_h56tld0spcl4kwk34c0000gn/T/pip-install-s782w0xs/tensorflow-gpu_c48b3c1355454b6583c588e0fc2ba750/setup.py'\"'\"';f = getattr(tokenize, '\"'\"'open'\"'\"', open)(__file__) if os.path.exists(__file__) else io.StringIO('\"'\"'from setuptools import setup; setup()'\"'\"');code = f.read().replace('\"'\"'\\r\\n'\"'\"', '\"'\"'\\n'\"'\"');f.close();exec(compile(code, __file__, '\"'\"'exec'\"'\"'))' bdist_wheel -d /private/var/folders/39/4b0jz_h56tld0spcl4kwk34c0000gn/T/pip-wheel-89xrtq68\n",
      "       cwd: /private/var/folders/39/4b0jz_h56tld0spcl4kwk34c0000gn/T/pip-install-s782w0xs/tensorflow-gpu_c48b3c1355454b6583c588e0fc2ba750/\n",
      "  Complete output (17 lines):\n",
      "  Traceback (most recent call last):\n",
      "    File \"<string>\", line 1, in <module>\n",
      "    File \"/private/var/folders/39/4b0jz_h56tld0spcl4kwk34c0000gn/T/pip-install-s782w0xs/tensorflow-gpu_c48b3c1355454b6583c588e0fc2ba750/setup.py\", line 37, in <module>\n",
      "      raise Exception(TF_REMOVAL_WARNING)\n",
      "  Exception:\n",
      "  \n",
      "  =========================================================\n",
      "  The \"tensorflow-gpu\" package has been removed!\n",
      "  \n",
      "  Please install \"tensorflow\" instead.\n",
      "  \n",
      "  Other than the name, the two packages have been identical\n",
      "  since TensorFlow 2.1, or roughly since Sep 2019. For more\n",
      "  information, see: pypi.org/project/tensorflow-gpu\n",
      "  =========================================================\n",
      "  \n",
      "  \n",
      "  ----------------------------------------\u001b[0m\n",
      "\u001b[31m  ERROR: Failed building wheel for tensorflow-gpu\u001b[0m\n",
      "\u001b[?25h  Running setup.py clean for tensorflow-gpu\n",
      "Failed to build tensorflow-gpu\n",
      "Installing collected packages: traitlets, platformdirs, jupyter-core, prompt-toolkit, packaging, psutil, debugpy, comm, widgetsnbextension, qtpy, jupyterlab-widgets, ipykernel, tomli, qtconsole, python-version, pyflakes, pycodestyle, pathspec, mypy-extensions, mccabe, jupyter-console, ipywidgets, click, tensorflow-gpu, seaborn, ramp-workflow, pyyaml, osfclient, jupyter, flake8, black\n",
      "  Attempting uninstall: traitlets\n",
      "    Found existing installation: traitlets 5.1.1\n",
      "    Uninstalling traitlets-5.1.1:\n",
      "      Successfully uninstalled traitlets-5.1.1\n",
      "  Attempting uninstall: jupyter-core\n",
      "    Found existing installation: jupyter-core 4.9.2\n",
      "    Uninstalling jupyter-core-4.9.2:\n",
      "      Successfully uninstalled jupyter-core-4.9.2\n",
      "  Attempting uninstall: prompt-toolkit\n",
      "    Found existing installation: prompt-toolkit 3.0.20\n",
      "    Uninstalling prompt-toolkit-3.0.20:\n",
      "      Successfully uninstalled prompt-toolkit-3.0.20\n",
      "  Attempting uninstall: packaging\n",
      "    Found existing installation: packaging 21.3\n",
      "    Uninstalling packaging-21.3:\n",
      "      Successfully uninstalled packaging-21.3\n",
      "  Attempting uninstall: debugpy\n",
      "    Found existing installation: debugpy 1.5.1\n",
      "    Uninstalling debugpy-1.5.1:\n",
      "      Successfully uninstalled debugpy-1.5.1\n",
      "  Attempting uninstall: ipykernel\n",
      "    Found existing installation: ipykernel 6.9.1\n",
      "    Uninstalling ipykernel-6.9.1:\n",
      "      Successfully uninstalled ipykernel-6.9.1\n",
      "    Running setup.py install for tensorflow-gpu ... \u001b[?25lerror\n",
      "\u001b[31m    ERROR: Command errored out with exit status 1:\n",
      "     command: /Users/mellek/opt/anaconda3/envs/Modelisation/bin/python -u -c 'import io, os, sys, setuptools, tokenize; sys.argv[0] = '\"'\"'/private/var/folders/39/4b0jz_h56tld0spcl4kwk34c0000gn/T/pip-install-s782w0xs/tensorflow-gpu_c48b3c1355454b6583c588e0fc2ba750/setup.py'\"'\"'; __file__='\"'\"'/private/var/folders/39/4b0jz_h56tld0spcl4kwk34c0000gn/T/pip-install-s782w0xs/tensorflow-gpu_c48b3c1355454b6583c588e0fc2ba750/setup.py'\"'\"';f = getattr(tokenize, '\"'\"'open'\"'\"', open)(__file__) if os.path.exists(__file__) else io.StringIO('\"'\"'from setuptools import setup; setup()'\"'\"');code = f.read().replace('\"'\"'\\r\\n'\"'\"', '\"'\"'\\n'\"'\"');f.close();exec(compile(code, __file__, '\"'\"'exec'\"'\"'))' install --record /private/var/folders/39/4b0jz_h56tld0spcl4kwk34c0000gn/T/pip-record-v_2okbrm/install-record.txt --single-version-externally-managed --compile --install-headers /Users/mellek/opt/anaconda3/envs/Modelisation/include/python3.9/tensorflow-gpu\n",
      "         cwd: /private/var/folders/39/4b0jz_h56tld0spcl4kwk34c0000gn/T/pip-install-s782w0xs/tensorflow-gpu_c48b3c1355454b6583c588e0fc2ba750/\n",
      "    Complete output (17 lines):\n",
      "    Traceback (most recent call last):\n",
      "      File \"<string>\", line 1, in <module>\n",
      "      File \"/private/var/folders/39/4b0jz_h56tld0spcl4kwk34c0000gn/T/pip-install-s782w0xs/tensorflow-gpu_c48b3c1355454b6583c588e0fc2ba750/setup.py\", line 37, in <module>\n",
      "        raise Exception(TF_REMOVAL_WARNING)\n",
      "    Exception:\n",
      "    \n",
      "    =========================================================\n",
      "    The \"tensorflow-gpu\" package has been removed!\n",
      "    \n",
      "    Please install \"tensorflow\" instead.\n",
      "    \n",
      "    Other than the name, the two packages have been identical\n",
      "    since TensorFlow 2.1, or roughly since Sep 2019. For more\n",
      "    information, see: pypi.org/project/tensorflow-gpu\n",
      "    =========================================================\n",
      "    \n",
      "    \n",
      "    ----------------------------------------\u001b[0m\n",
      "\u001b[?25h\u001b[31mERROR: Command errored out with exit status 1: /Users/mellek/opt/anaconda3/envs/Modelisation/bin/python -u -c 'import io, os, sys, setuptools, tokenize; sys.argv[0] = '\"'\"'/private/var/folders/39/4b0jz_h56tld0spcl4kwk34c0000gn/T/pip-install-s782w0xs/tensorflow-gpu_c48b3c1355454b6583c588e0fc2ba750/setup.py'\"'\"'; __file__='\"'\"'/private/var/folders/39/4b0jz_h56tld0spcl4kwk34c0000gn/T/pip-install-s782w0xs/tensorflow-gpu_c48b3c1355454b6583c588e0fc2ba750/setup.py'\"'\"';f = getattr(tokenize, '\"'\"'open'\"'\"', open)(__file__) if os.path.exists(__file__) else io.StringIO('\"'\"'from setuptools import setup; setup()'\"'\"');code = f.read().replace('\"'\"'\\r\\n'\"'\"', '\"'\"'\\n'\"'\"');f.close();exec(compile(code, __file__, '\"'\"'exec'\"'\"'))' install --record /private/var/folders/39/4b0jz_h56tld0spcl4kwk34c0000gn/T/pip-record-v_2okbrm/install-record.txt --single-version-externally-managed --compile --install-headers /Users/mellek/opt/anaconda3/envs/Modelisation/include/python3.9/tensorflow-gpu Check the logs for full command output.\u001b[0m\n"
     ]
    }
   ],
   "source": [
    "import sys\n",
    "!{sys.executable} -m pip install -r requirements.txt"
   ]
  },
  {
   "attachments": {},
   "cell_type": "markdown",
   "metadata": {},
   "source": [
    "Download the raw videos using the download_data.py"
   ]
  },
  {
   "cell_type": "code",
   "execution_count": 20,
   "metadata": {},
   "outputs": [
    {
     "name": "stdout",
     "output_type": "stream",
     "text": [
      "Start downloading non-youtube videos.\n",
      "Traceback (most recent call last):\n",
      "  File \"/Users/mellek/Desktop/M2DS/datacamp/SignLanguage/data/download_data.py\", line 146, in <module>\n",
      "    download_nonyt_videos('WLASL_v0.3.json')\n",
      "  File \"/Users/mellek/Desktop/M2DS/datacamp/SignLanguage/data/download_data.py\", line 75, in download_nonyt_videos\n",
      "    content = json.load(open(indexfile))\n",
      "FileNotFoundError: [Errno 2] No such file or directory: 'WLASL_v0.3.json'\n"
     ]
    }
   ],
   "source": [
    "!python data/download_data.py"
   ]
  },
  {
   "attachments": {},
   "cell_type": "markdown",
   "metadata": {},
   "source": [
    "After running this command you will have all the raw videos stored in the data/raw_videos file. note that since the videos are downloaded from the internet using links, some videos could be no more available on the same link as before so it's normal if some videos were skipped during the download."
   ]
  },
  {
   "attachments": {},
   "cell_type": "markdown",
   "metadata": {},
   "source": [
    "# 3. The Dataset description"
   ]
  },
  {
   "attachments": {},
   "cell_type": "markdown",
   "metadata": {},
   "source": [
    "In the data folder, you will find the json file **WLASL_v0.3.json** that describes the dataset. This json file contains two objects for each word in the dataset. The first is the **gloss** which is the corresponding English word, and **instances** which is a list of dictionary objects that describe each video of that word. Each instance contains the information needed to download the video instance from the internet, but also the signer's ID and in which split (train or test) to put these instances. The splitting was done with the goal of balancing the training and test sets in terms of word frequencies, frame lengths, signers diversity, etc."
   ]
  },
  {
   "attachments": {},
   "cell_type": "markdown",
   "metadata": {},
   "source": [
    "# 4. Data Exploration"
   ]
  },
  {
   "attachments": {},
   "cell_type": "markdown",
   "metadata": {},
   "source": [
    "### 4.1  Loading the data Json file"
   ]
  },
  {
   "cell_type": "code",
   "execution_count": 1,
   "metadata": {},
   "outputs": [],
   "source": [
    "import matplotlib.pyplot as plt\n",
    "import json\n",
    "\n",
    "# Load the dataset from the JSON file\n",
    "with open('data/WLASL_v0.3.json') as f:\n",
    "    data = json.load(f)"
   ]
  },
  {
   "cell_type": "code",
   "execution_count": 3,
   "metadata": {},
   "outputs": [
    {
     "name": "stdout",
     "output_type": "stream",
     "text": [
      "Missing 9103 videos\n"
     ]
    }
   ],
   "source": [
    "import os\n",
    "# Check for missing video files\n",
    "count_missing = 0\n",
    "video_dir = '/Users/mellek/Desktop/M2DS/datacamp/SignLanguage/data/raw_videos/'\n",
    "for gloss in data:\n",
    "    for sign in gloss['instances']:\n",
    "        video_file = sign['video_id']\n",
    "        if not os.path.exists(video_dir+video_file+'.mp4'):\n",
    "            count_missing += 1\n",
    "print('Missing {} videos'.format(count_missing))"
   ]
  },
  {
   "attachments": {},
   "cell_type": "markdown",
   "metadata": {},
   "source": [
    "### 4.2 Visualisation"
   ]
  },
  {
   "attachments": {},
   "cell_type": "markdown",
   "metadata": {},
   "source": [
    "First let's have a look at the histogram of the frequency distribution in the dataset"
   ]
  },
  {
   "cell_type": "code",
   "execution_count": 5,
   "metadata": {},
   "outputs": [
    {
     "data": {
      "image/png": "[encoded data removed]",
      "text/plain": [
       "<Figure size 432x288 with 1 Axes>"
      ]
     },
     "metadata": {
      "needs_background": "light"
     },
     "output_type": "display_data"
    }
   ],
   "source": [
    "# Get the sign labels and frequencies\n",
    "labels = [d['gloss'] for d in data]\n",
    "frequencies = [len(d['instances']) for d in data]\n",
    "\n",
    "# Plot the histogram\n",
    "plt.hist(frequencies, bins=20)\n",
    "plt.xlabel('Frequency')\n",
    "plt.ylabel('Number of Signs')\n",
    "plt.title('Sign Frequency Distribution')\n",
    "plt.show()"
   ]
  },
  {
   "attachments": {},
   "cell_type": "markdown",
   "metadata": {},
   "source": [
    "Let's take a look at one of the videos, you can use the function **get_video_path** and **read_video** from **problem.py**. The first function gives you the path of the first video of a given word, and the second plot you images from that video. "
   ]
  },
  {
   "attachments": {},
   "cell_type": "markdown",
   "metadata": {},
   "source": [
    "#"
   ]
  },
  {
   "cell_type": "code",
   "execution_count": 18,
   "metadata": {},
   "outputs": [
    {
     "name": "stderr",
     "output_type": "stream",
     "text": [
      "OpenCV: Couldn't read video stream from file \"data/raw_videos/27171.mp4\"\n"
     ]
    },
    {
     "ename": "ValueError",
     "evalue": "Number of columns must be a positive integer, not 0",
     "output_type": "error",
     "traceback": [
      "\u001b[0;31m---------------------------------------------------------------------------\u001b[0m",
      "\u001b[0;31mValueError\u001b[0m                                Traceback (most recent call last)",
      "\u001b[1;32m/Users/mellek/Desktop/M2DS/datacamp/SignLanguage/sign_language_starting_kit.ipynb Cellule 21\u001b[0m in \u001b[0;36m<cell line: 25>\u001b[0;34m()\u001b[0m\n\u001b[1;32m     <a href='vscode-notebook-cell:/Users/mellek/Desktop/M2DS/datacamp/SignLanguage/sign_language_starting_kit.ipynb#X60sZmlsZQ%3D%3D?line=19'>20</a>\u001b[0m         axes[i]\u001b[39m.\u001b[39maxis(\u001b[39m'\u001b[39m\u001b[39moff\u001b[39m\u001b[39m'\u001b[39m)\n\u001b[1;32m     <a href='vscode-notebook-cell:/Users/mellek/Desktop/M2DS/datacamp/SignLanguage/sign_language_starting_kit.ipynb#X60sZmlsZQ%3D%3D?line=21'>22</a>\u001b[0m     plt\u001b[39m.\u001b[39mshow()\n\u001b[0;32m---> <a href='vscode-notebook-cell:/Users/mellek/Desktop/M2DS/datacamp/SignLanguage/sign_language_starting_kit.ipynb#X60sZmlsZQ%3D%3D?line=24'>25</a>\u001b[0m plot_video_frames(video)\n",
      "\u001b[1;32m/Users/mellek/Desktop/M2DS/datacamp/SignLanguage/sign_language_starting_kit.ipynb Cellule 21\u001b[0m in \u001b[0;36mplot_video_frames\u001b[0;34m(video)\u001b[0m\n\u001b[1;32m     <a href='vscode-notebook-cell:/Users/mellek/Desktop/M2DS/datacamp/SignLanguage/sign_language_starting_kit.ipynb#X60sZmlsZQ%3D%3D?line=11'>12</a>\u001b[0m num_frames \u001b[39m=\u001b[39m video\u001b[39m.\u001b[39mshape[\u001b[39m0\u001b[39m]\n\u001b[1;32m     <a href='vscode-notebook-cell:/Users/mellek/Desktop/M2DS/datacamp/SignLanguage/sign_language_starting_kit.ipynb#X60sZmlsZQ%3D%3D?line=12'>13</a>\u001b[0m num_cols \u001b[39m=\u001b[39m \u001b[39mmin\u001b[39m(\u001b[39m10\u001b[39m, num_frames)\n\u001b[0;32m---> <a href='vscode-notebook-cell:/Users/mellek/Desktop/M2DS/datacamp/SignLanguage/sign_language_starting_kit.ipynb#X60sZmlsZQ%3D%3D?line=13'>14</a>\u001b[0m fig, axes \u001b[39m=\u001b[39m plt\u001b[39m.\u001b[39;49msubplots(\u001b[39m1\u001b[39;49m, num_cols, figsize\u001b[39m=\u001b[39;49m(\u001b[39m200\u001b[39;49m, \u001b[39m100\u001b[39;49m))\n\u001b[1;32m     <a href='vscode-notebook-cell:/Users/mellek/Desktop/M2DS/datacamp/SignLanguage/sign_language_starting_kit.ipynb#X60sZmlsZQ%3D%3D?line=15'>16</a>\u001b[0m \u001b[39mfor\u001b[39;00m i \u001b[39min\u001b[39;00m \u001b[39mrange\u001b[39m(num_cols):\n\u001b[1;32m     <a href='vscode-notebook-cell:/Users/mellek/Desktop/M2DS/datacamp/SignLanguage/sign_language_starting_kit.ipynb#X60sZmlsZQ%3D%3D?line=16'>17</a>\u001b[0m     frame_idx \u001b[39m=\u001b[39m i\u001b[39m*\u001b[39m\u001b[39mint\u001b[39m(num_frames\u001b[39m/\u001b[39mnum_cols)\n",
      "File \u001b[0;32m~/opt/anaconda3/envs/Modelisation/lib/python3.9/site-packages/matplotlib/pyplot.py:1435\u001b[0m, in \u001b[0;36msubplots\u001b[0;34m(nrows, ncols, sharex, sharey, squeeze, subplot_kw, gridspec_kw, **fig_kw)\u001b[0m\n\u001b[1;32m   1302\u001b[0m \u001b[39m\u001b[39m\u001b[39m\"\"\"\u001b[39;00m\n\u001b[1;32m   1303\u001b[0m \u001b[39mCreate a figure and a set of subplots.\u001b[39;00m\n\u001b[1;32m   1304\u001b[0m \n\u001b[0;32m   (...)\u001b[0m\n\u001b[1;32m   1432\u001b[0m \n\u001b[1;32m   1433\u001b[0m \u001b[39m\"\"\"\u001b[39;00m\n\u001b[1;32m   1434\u001b[0m fig \u001b[39m=\u001b[39m figure(\u001b[39m*\u001b[39m\u001b[39m*\u001b[39mfig_kw)\n\u001b[0;32m-> 1435\u001b[0m axs \u001b[39m=\u001b[39m fig\u001b[39m.\u001b[39;49msubplots(nrows\u001b[39m=\u001b[39;49mnrows, ncols\u001b[39m=\u001b[39;49mncols, sharex\u001b[39m=\u001b[39;49msharex, sharey\u001b[39m=\u001b[39;49msharey,\n\u001b[1;32m   1436\u001b[0m                    squeeze\u001b[39m=\u001b[39;49msqueeze, subplot_kw\u001b[39m=\u001b[39;49msubplot_kw,\n\u001b[1;32m   1437\u001b[0m                    gridspec_kw\u001b[39m=\u001b[39;49mgridspec_kw)\n\u001b[1;32m   1438\u001b[0m \u001b[39mreturn\u001b[39;00m fig, axs\n",
      "File \u001b[0;32m~/opt/anaconda3/envs/Modelisation/lib/python3.9/site-packages/matplotlib/figure.py:896\u001b[0m, in \u001b[0;36mFigureBase.subplots\u001b[0;34m(self, nrows, ncols, sharex, sharey, squeeze, subplot_kw, gridspec_kw)\u001b[0m\n\u001b[1;32m    894\u001b[0m \u001b[39mif\u001b[39;00m gridspec_kw \u001b[39mis\u001b[39;00m \u001b[39mNone\u001b[39;00m:\n\u001b[1;32m    895\u001b[0m     gridspec_kw \u001b[39m=\u001b[39m {}\n\u001b[0;32m--> 896\u001b[0m gs \u001b[39m=\u001b[39m \u001b[39mself\u001b[39;49m\u001b[39m.\u001b[39;49madd_gridspec(nrows, ncols, figure\u001b[39m=\u001b[39;49m\u001b[39mself\u001b[39;49m, \u001b[39m*\u001b[39;49m\u001b[39m*\u001b[39;49mgridspec_kw)\n\u001b[1;32m    897\u001b[0m axs \u001b[39m=\u001b[39m gs\u001b[39m.\u001b[39msubplots(sharex\u001b[39m=\u001b[39msharex, sharey\u001b[39m=\u001b[39msharey, squeeze\u001b[39m=\u001b[39msqueeze,\n\u001b[1;32m    898\u001b[0m                   subplot_kw\u001b[39m=\u001b[39msubplot_kw)\n\u001b[1;32m    899\u001b[0m \u001b[39mreturn\u001b[39;00m axs\n",
      "File \u001b[0;32m~/opt/anaconda3/envs/Modelisation/lib/python3.9/site-packages/matplotlib/figure.py:1395\u001b[0m, in \u001b[0;36mFigureBase.add_gridspec\u001b[0;34m(self, nrows, ncols, **kwargs)\u001b[0m\n\u001b[1;32m   1356\u001b[0m \u001b[39m\u001b[39m\u001b[39m\"\"\"\u001b[39;00m\n\u001b[1;32m   1357\u001b[0m \u001b[39mReturn a `.GridSpec` that has this figure as a parent.  This allows\u001b[39;00m\n\u001b[1;32m   1358\u001b[0m \u001b[39mcomplex layout of Axes in the figure.\u001b[39;00m\n\u001b[0;32m   (...)\u001b[0m\n\u001b[1;32m   1391\u001b[0m \n\u001b[1;32m   1392\u001b[0m \u001b[39m\"\"\"\u001b[39;00m\n\u001b[1;32m   1394\u001b[0m _ \u001b[39m=\u001b[39m kwargs\u001b[39m.\u001b[39mpop(\u001b[39m'\u001b[39m\u001b[39mfigure\u001b[39m\u001b[39m'\u001b[39m, \u001b[39mNone\u001b[39;00m)  \u001b[39m# pop in case user has added this...\u001b[39;00m\n\u001b[0;32m-> 1395\u001b[0m gs \u001b[39m=\u001b[39m GridSpec(nrows\u001b[39m=\u001b[39;49mnrows, ncols\u001b[39m=\u001b[39;49mncols, figure\u001b[39m=\u001b[39;49m\u001b[39mself\u001b[39;49m, \u001b[39m*\u001b[39;49m\u001b[39m*\u001b[39;49mkwargs)\n\u001b[1;32m   1396\u001b[0m \u001b[39mself\u001b[39m\u001b[39m.\u001b[39m_gridspecs\u001b[39m.\u001b[39mappend(gs)\n\u001b[1;32m   1397\u001b[0m \u001b[39mreturn\u001b[39;00m gs\n",
      "File \u001b[0;32m~/opt/anaconda3/envs/Modelisation/lib/python3.9/site-packages/matplotlib/gridspec.py:385\u001b[0m, in \u001b[0;36mGridSpec.__init__\u001b[0;34m(self, nrows, ncols, figure, left, bottom, right, top, wspace, hspace, width_ratios, height_ratios)\u001b[0m\n\u001b[1;32m    382\u001b[0m \u001b[39mself\u001b[39m\u001b[39m.\u001b[39mhspace \u001b[39m=\u001b[39m hspace\n\u001b[1;32m    383\u001b[0m \u001b[39mself\u001b[39m\u001b[39m.\u001b[39mfigure \u001b[39m=\u001b[39m figure\n\u001b[0;32m--> 385\u001b[0m \u001b[39msuper\u001b[39;49m()\u001b[39m.\u001b[39;49m\u001b[39m__init__\u001b[39;49m(nrows, ncols,\n\u001b[1;32m    386\u001b[0m                  width_ratios\u001b[39m=\u001b[39;49mwidth_ratios,\n\u001b[1;32m    387\u001b[0m                  height_ratios\u001b[39m=\u001b[39;49mheight_ratios)\n",
      "File \u001b[0;32m~/opt/anaconda3/envs/Modelisation/lib/python3.9/site-packages/matplotlib/gridspec.py:52\u001b[0m, in \u001b[0;36mGridSpecBase.__init__\u001b[0;34m(self, nrows, ncols, height_ratios, width_ratios)\u001b[0m\n\u001b[1;32m     49\u001b[0m     \u001b[39mraise\u001b[39;00m \u001b[39mValueError\u001b[39;00m(\n\u001b[1;32m     50\u001b[0m         \u001b[39mf\u001b[39m\u001b[39m\"\u001b[39m\u001b[39mNumber of rows must be a positive integer, not \u001b[39m\u001b[39m{\u001b[39;00mnrows\u001b[39m!r}\u001b[39;00m\u001b[39m\"\u001b[39m)\n\u001b[1;32m     51\u001b[0m \u001b[39mif\u001b[39;00m \u001b[39mnot\u001b[39;00m \u001b[39misinstance\u001b[39m(ncols, Integral) \u001b[39mor\u001b[39;00m ncols \u001b[39m<\u001b[39m\u001b[39m=\u001b[39m \u001b[39m0\u001b[39m:\n\u001b[0;32m---> 52\u001b[0m     \u001b[39mraise\u001b[39;00m \u001b[39mValueError\u001b[39;00m(\n\u001b[1;32m     53\u001b[0m         \u001b[39mf\u001b[39m\u001b[39m\"\u001b[39m\u001b[39mNumber of columns must be a positive integer, not \u001b[39m\u001b[39m{\u001b[39;00mncols\u001b[39m!r}\u001b[39;00m\u001b[39m\"\u001b[39m)\n\u001b[1;32m     54\u001b[0m \u001b[39mself\u001b[39m\u001b[39m.\u001b[39m_nrows, \u001b[39mself\u001b[39m\u001b[39m.\u001b[39m_ncols \u001b[39m=\u001b[39m nrows, ncols\n\u001b[1;32m     55\u001b[0m \u001b[39mself\u001b[39m\u001b[39m.\u001b[39mset_height_ratios(height_ratios)\n",
      "\u001b[0;31mValueError\u001b[0m: Number of columns must be a positive integer, not 0"
     ]
    },
    {
     "data": {
      "text/plain": [
       "<Figure size 14400x7200 with 0 Axes>"
      ]
     },
     "metadata": {},
     "output_type": "display_data"
    }
   ],
   "source": [
    "\n",
    "import matplotlib.pyplot as plt\n",
    "import numpy as np\n",
    "\n",
    "from problem import read_video, get_video_path\n",
    "\n",
    "path_to_video = get_video_path('hello', data)\n",
    "video = read_video(path_to_video)\n",
    "\n",
    "\n",
    "len(video)\n",
    "def plot_video_frames(video):\n",
    "    num_frames = video.shape[0]\n",
    "    num_cols = min(10, num_frames)\n",
    "    fig, axes = plt.subplots(1, num_cols, figsize=(200, 100))\n",
    "    \n",
    "    for i in range(num_cols):\n",
    "        frame_idx = i*int(num_frames/num_cols)\n",
    "        frame = video[frame_idx]\n",
    "        axes[i].imshow(frame)\n",
    "        axes[i].axis('off')\n",
    "            \n",
    "    plt.show()\n",
    "\n",
    "\n",
    "plot_video_frames(video)\n"
   ]
  },
  {
   "attachments": {},
   "cell_type": "markdown",
   "metadata": {},
   "source": [
    "# 5. Submission"
   ]
  },
  {
   "attachments": {},
   "cell_type": "markdown",
   "metadata": {},
   "source": [
    "for d in data:"
   ]
  }
 ],
 "metadata": {
  "kernelspec": {
   "display_name": "Modelisation",
   "language": "python",
   "name": "python3"
  },
  "language_info": {
   "codemirror_mode": {
    "name": "ipython",
    "version": 3
   },
   "file_extension": ".py",
   "mimetype": "text/x-python",
   "name": "python",
   "nbconvert_exporter": "python",
   "pygments_lexer": "ipython3",
   "version": "3.9.12"
  },
  "orig_nbformat": 4,
  "vscode": {
   "interpreter": {
    "hash": "9a8bcb31ae223eec80c10e6235bf0c65f75da80ae10ec3387f54d9e010598386"
   }
  }
 },
 "nbformat": 4,
 "nbformat_minor": 2
}
